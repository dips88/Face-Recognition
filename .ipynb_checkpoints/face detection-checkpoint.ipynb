{
 "cells": [
  {
   "cell_type": "code",
   "execution_count": 16,
   "metadata": {
    "collapsed": false
   },
   "outputs": [],
   "source": [
    "#viola jones algorithm\n",
    "\n",
    "import numpy as np\n",
    "import cv2\n",
    "face_cascade = cv2.CascadeClassifier('haarcascade_frontalface_default.xml')\n",
    "# ,0 automatically converts the image into gray image\n",
    "img = cv2.imread('images.jpg')\n",
    "\n",
    "#cv2.imshow('img',img)\n",
    "#cv2.waitKey(0)\n",
    "#cv2.destroyAllWindows()"
   ]
  },
  {
   "cell_type": "code",
   "execution_count": 44,
   "metadata": {
    "collapsed": false
   },
   "outputs": [],
   "source": [
    "#faces = face_cascade.detectMultiScale(img, 1.3, 5)\n",
    "faces = face_cascade.detectMultiScale(\n",
    "        img,\n",
    "        scaleFactor=1.3,\n",
    "        minNeighbors=5,\n",
    "        flags= cv2.CASCADE_SCALE_IMAGE\n",
    "    )\n",
    "for (x,y,w,h) in faces:\n",
    "    cv2.rectangle(img,(x,y),(x+w,y+h),(255,0,0),2)\n",
    "    cropped = img[y:y+h, x:x+w]\n",
    "    "
   ]
  },
  {
   "cell_type": "code",
   "execution_count": 45,
   "metadata": {
    "collapsed": false
   },
   "outputs": [],
   "source": [
    "cv2.imshow('img',img)\n",
    "#cv2.imwrite('img1.jpg',cropped)\n",
    "cv2.waitKey(0)\n",
    "cv2.destroyAllWindows()"
   ]
  },
  {
   "cell_type": "code",
   "execution_count": null,
   "metadata": {
    "collapsed": true
   },
   "outputs": [],
   "source": [
    "import os\n",
    "\n",
    "# traverse root directory, and list directories as dirs and files as files\n",
    "data = \"\"\n",
    "for root, dirs, files in os.walk(\"NormalizedData/ImposterFace\"):\n",
    "    path = root.split(os.sep)\n",
    "    #print((len(path) - 1) * '---', os.path.basename(root))\n",
    "    dir1 = os.path.basename(root)\n",
    "    for file in files:\n",
    "        if file.endswith(\".jpg\"):\n",
    "            list = powerSpectrum(\"NormalizedData/ImposterFace/\"+dir1+\"/\"+file)\n",
    "            data += \" \".join(str(x) for x in list) + \" 0\\n\"\n",
    "with open(\"newProcess1.txt\", \"a\") as f:\n",
    "    f.write(data)"
   ]
  }
 ],
 "metadata": {
  "anaconda-cloud": {},
  "kernelspec": {
   "display_name": "Python [conda root]",
   "language": "python",
   "name": "conda-root-py"
  },
  "language_info": {
   "codemirror_mode": {
    "name": "ipython",
    "version": 3
   },
   "file_extension": ".py",
   "mimetype": "text/x-python",
   "name": "python",
   "nbconvert_exporter": "python",
   "pygments_lexer": "ipython3",
   "version": "3.5.2"
  }
 },
 "nbformat": 4,
 "nbformat_minor": 1
}
