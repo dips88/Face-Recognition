{
 "cells": [
  {
   "cell_type": "code",
   "execution_count": 4,
   "metadata": {
    "collapsed": false
   },
   "outputs": [],
   "source": [
    "#viola jones algorithm\n",
    "\n",
    "import numpy as np\n",
    "import cv2\n",
    "face_cascade = cv2.CascadeClassifier('haarcascade_frontalface_default.xml')\n",
    "# ,0 automatically converts the image into gray image\n",
    "img = cv2.imread('images.jpg')\n",
    "recognizer = cv2.face.createEigenFaceRecognizer()\n",
    "#cv2.imshow('img',img)\n",
    "#cv2.waitKey(0)\n",
    "#cv2.destroyAllWindows()"
   ]
  },
  {
   "cell_type": "code",
   "execution_count": 44,
   "metadata": {
    "collapsed": false
   },
   "outputs": [],
   "source": [
    "#faces = face_cascade.detectMultiScale(img, 1.3, 5)\n",
    "faces = face_cascade.detectMultiScale(\n",
    "        img,\n",
    "        scaleFactor=1.3,\n",
    "        minNeighbors=5,\n",
    "        flags= cv2.CASCADE_SCALE_IMAGE\n",
    "    )\n",
    "for (x,y,w,h) in faces:\n",
    "    cv2.rectangle(img,(x,y),(x+w,y+h),(255,0,0),2)\n",
    "    cropped = img[y:y+h, x:x+w]\n",
    "    "
   ]
  },
  {
   "cell_type": "code",
   "execution_count": 45,
   "metadata": {
    "collapsed": false
   },
   "outputs": [],
   "source": [
    "cv2.imshow('img',img)\n",
    "#cv2.imwrite('img1.jpg',cropped)\n",
    "cv2.waitKey(0)\n",
    "cv2.destroyAllWindows()"
   ]
  },
  {
   "cell_type": "code",
   "execution_count": 8,
   "metadata": {
    "collapsed": false
   },
   "outputs": [],
   "source": [
    "import os\n",
    "count=-1\n",
    "# traverse root directory, and list directories as dirs and files as files\n",
    "data = \"\"\n",
    "for root, dirs, files in os.walk(\"Yale database\"):\n",
    "    path = root.split(os.sep)\n",
    "    #print((len(path) - 1) * '---', os.path.basename(root))\n",
    "    dir1 = os.path.basename(root)\n",
    "    count=count+1\n",
    "    for file in files:\n",
    "        if file.endswith(\".jpg\"):\n",
    "            \n",
    "            list = LBP(\"Yale database/\"+dir1+\"/\"+file)\n",
    "            data += \" \".join(str(x) for x in list) +\" \"+ str(count) + \" \\n\"\n",
    "with open(\"LCP.txt\", \"a\") as f:\n",
    "    f.write(data)"
   ]
  },
  {
   "cell_type": "code",
   "execution_count": 1,
   "metadata": {
    "collapsed": true
   },
   "outputs": [],
   "source": [
    "import cv2\n",
    "import os\n",
    "from skimage.feature import local_binary_pattern\n",
    "from scipy.stats import itemfreq \n",
    "from sklearn.preprocessing import normalize \n",
    "import csv\n",
    "from PIL import Image\n",
    "import matplotlib.pyplot as plt\n",
    "\n",
    "def LBP(imgPath):\n",
    "    im_gray = cv2.imread(imgPath,0)\n",
    "    radius = 1\n",
    "    no_points = 8 * radius\n",
    "    lbp = local_binary_pattern(im_gray, no_points, radius, method='uniform') \n",
    "    lbp_img = Image.fromarray(lbp)\n",
    "    #plt.subplot(121),plt.imshow(lbp_img)\n",
    "    #x = itemfreq(lbp.ravel())\n",
    "    #ans=sorted(set(lbp.ravel()))\n",
    "    #plt.subplot(122),plt.hist(lbp.ravel(),normed=True,bins=9)\n",
    "    #plt.show()\n",
    "\n",
    "    n,bins,patches = plt.hist(lbp.ravel(),normed=True,bins=58)\n",
    "    return n\n",
    "\n"
   ]
  },
  {
   "cell_type": "code",
   "execution_count": 18,
   "metadata": {
    "collapsed": false
   },
   "outputs": [
    {
     "name": "stdout",
     "output_type": "stream",
     "text": [
      "0.5625\n",
      "[[0 1 0 0 0 0 0 0 0 0 0]\n",
      " [0 1 0 0 0 0 0 0 0 0 0]\n",
      " [1 0 2 0 0 0 0 0 0 0 0]\n",
      " [0 0 0 1 0 0 0 0 0 0 0]\n",
      " [0 0 0 0 0 0 0 1 0 0 0]\n",
      " [0 0 0 0 0 1 0 0 0 0 0]\n",
      " [0 0 0 0 0 0 1 0 0 0 0]\n",
      " [0 2 0 0 0 0 0 0 0 0 0]\n",
      " [0 0 0 0 0 0 0 0 1 0 0]\n",
      " [0 0 0 1 0 1 0 0 0 1 0]\n",
      " [0 0 0 0 0 0 0 0 0 0 1]]\n",
      "             precision    recall  f1-score   support\n",
      "\n",
      "          1       0.00      0.00      0.00         1\n",
      "          2       0.25      1.00      0.40         1\n",
      "          4       1.00      0.67      0.80         3\n",
      "          5       0.50      1.00      0.67         1\n",
      "          7       0.00      0.00      0.00         1\n",
      "          8       0.50      1.00      0.67         1\n",
      "          9       1.00      1.00      1.00         1\n",
      "         12       0.00      0.00      0.00         2\n",
      "         13       1.00      1.00      1.00         1\n",
      "         14       1.00      0.33      0.50         3\n",
      "         15       1.00      1.00      1.00         1\n",
      "\n",
      "avg / total       0.64      0.56      0.54        16\n",
      "\n"
     ]
    },
    {
     "name": "stderr",
     "output_type": "stream",
     "text": [
      "C:\\Users\\LENOVO\\Anaconda3\\lib\\site-packages\\sklearn\\metrics\\classification.py:1074: UndefinedMetricWarning: Precision and F-score are ill-defined and being set to 0.0 in labels with no predicted samples.\n",
      "  'precision', 'predicted', average, warn_for)\n"
     ]
    }
   ],
   "source": [
    "import os\n",
    "import pandas\n",
    "from sklearn.ensemble import RandomForestRegressor\n",
    "from sklearn.tree import DecisionTreeRegressor\n",
    "from sklearn.linear_model import LinearRegression, Ridge\n",
    "from sklearn.neighbors import KNeighborsClassifier\n",
    "from sklearn.linear_model import LogisticRegression\n",
    "from sklearn.tree import DecisionTreeClassifier\n",
    "from sklearn.discriminant_analysis import LinearDiscriminantAnalysis\n",
    "from sklearn.naive_bayes import GaussianNB\n",
    "from sklearn.svm import SVC\n",
    "import numpy\n",
    "from sklearn.metrics import confusion_matrix, roc_curve, auc\n",
    "from sklearn.preprocessing import label_binarize\n",
    "from sklearn import cross_validation\n",
    "from sklearn.metrics import classification_report\n",
    "from sklearn.metrics import confusion_matrix\n",
    "from sklearn.metrics import accuracy_score\n",
    "import matplotlib.pyplot as plt\n",
    "dirPath = os.getcwd()\n",
    "dataSet1 = pandas.read_csv(str(dirPath)+\"\\\\LBP1.csv\",names=['id1','id2','id3','id4','id5','id6','id7','id8','id9','id10','class'],index_col=0,sep=',')\n",
    "\n",
    "Ydata = dataSet1['class']\n",
    "dataSet1.drop('class',axis=1,inplace=True)\n",
    "\n",
    "Xdata = dataSet1\n",
    "X = numpy.array(Xdata)\n",
    "\n",
    "Y = numpy.array(Ydata)\n",
    "validation_size = 0.1\n",
    "seed = 5\n",
    "X_train, X_validation, Y_train, Y_validation = cross_validation.train_test_split(X, Y, test_size=validation_size, random_state=seed)\n",
    "#svm1 = SVC()\n",
    "svm1 = KNeighborsClassifier()\n",
    "\n",
    "svm1.fit(X_train, Y_train)\n",
    "predictions = svm1.predict(X_validation)\n",
    "print(accuracy_score(Y_validation, predictions))\n",
    "print(confusion_matrix(Y_validation, predictions))\n",
    "print(classification_report(Y_validation, predictions))\n"
   ]
  },
  {
   "cell_type": "code",
   "execution_count": null,
   "metadata": {
    "collapsed": true
   },
   "outputs": [],
   "source": []
  },
  {
   "cell_type": "code",
   "execution_count": null,
   "metadata": {
    "collapsed": true
   },
   "outputs": [],
   "source": []
  }
 ],
 "metadata": {
  "anaconda-cloud": {},
  "kernelspec": {
   "display_name": "Python [conda root]",
   "language": "python",
   "name": "conda-root-py"
  },
  "language_info": {
   "codemirror_mode": {
    "name": "ipython",
    "version": 3
   },
   "file_extension": ".py",
   "mimetype": "text/x-python",
   "name": "python",
   "nbconvert_exporter": "python",
   "pygments_lexer": "ipython3",
   "version": "3.5.2"
  }
 },
 "nbformat": 4,
 "nbformat_minor": 1
}
